{
 "cells": [
  {
   "attachments": {},
   "cell_type": "markdown",
   "metadata": {},
   "source": [
    "# Climate Cloud"
   ]
  },
  {
   "attachments": {},
   "cell_type": "markdown",
   "metadata": {},
   "source": [
    "### Data Processing"
   ]
  },
  {
   "attachments": {},
   "cell_type": "markdown",
   "metadata": {},
   "source": [
    "The following function converts a CDF file into a csv keeping only the values in our specified lat, lon limits as well as dropping unecessary data columns "
   ]
  },
  {
   "cell_type": "code",
   "execution_count": null,
   "metadata": {},
   "outputs": [],
   "source": [
    "import xarray as xr\n",
    "# single file\n",
    "nc_file = \"\"\n",
    "csv_file = \"\"\n",
    "dataDIR = 'nc_file'\n",
    "data = xr.open_dataset(dataDIR)\n",
    "df = data.to_dataframe()\n",
    "df = df.drop('Lambert_Conformal', axis=1)\n",
    "df = df.drop('time_bnds', axis=1)\n",
    "index_drop = df[ (df['lat'] < 32.5350) | (df['lat'] >42.0056) ].index\n",
    "df.drop(index_drop, inplace=True)\n",
    "index_drop = df[ (df['lon'] < -124.2126) | (df['lon'] > -114.1312)].index \n",
    "df.drop(index_drop, inplace=True)\n",
    "print(df)\n",
    "df.to_csv(csv_file, index=True)\n",
    "#df = df.drop('Lambert_Conformal', axis=1)"
   ]
  },
  {
   "attachments": {},
   "cell_type": "markdown",
   "metadata": {},
   "source": [
    "data folder clean up"
   ]
  },
  {
   "cell_type": "code",
   "execution_count": null,
   "metadata": {},
   "outputs": [],
   "source": [
    "import os\n",
    "\n",
    "directory = \"data/2021\"#change for each year \n",
    "old_format = \"usdm_%Y%m%d.json\"\n",
    "new_format = \"%Y%m%d.json\"\n",
    "\n",
    "for filename in os.listdir(directory):\n",
    "    if filename.startswith(\"usdm_\") and filename.endswith(\".json\"):\n",
    "        old_path = os.path.join(directory, filename)\n",
    "        new_path = os.path.join(directory, filename.replace(\"usdm_\", \"\").replace(\"-\", \"\"))\n",
    "        os.rename(old_path, new_path)\n",
    "        print(f\"Renamed {old_path} to {new_path}\")"
   ]
  },
  {
   "attachments": {},
   "cell_type": "markdown",
   "metadata": {},
   "source": [
    "The following functions are involved in combining the NOAA data with the USDM data"
   ]
  },
  {
   "cell_type": "code",
   "execution_count": null,
   "metadata": {},
   "outputs": [],
   "source": [
    "import csv\n",
    "import json\n",
    "import re\n",
    "import os\n",
    "\n",
    "from shapely.geometry import shape, Point\n",
    "\n",
    "#change based on year dealing with\n",
    "directory = '2015drought_json'\n",
    "directory_path = '2015drought_json'\n",
    "csv_path ='cdf/apcp.2015.csv'\n",
    "csv_out ='2015_final.csv'\n",
    "#filelist = sorted(os.listdir(directory))"
   ]
  },
  {
   "attachments": {},
   "cell_type": "markdown",
   "metadata": {},
   "source": [
    "the function date_change changes the a given date in the format 2021-01-01 to 20210101. This allows for easier searching and file matching"
   ]
  },
  {
   "cell_type": "code",
   "execution_count": null,
   "metadata": {},
   "outputs": [],
   "source": [
    "def date_change(date):\n",
    "    date_str = date\n",
    "    date_str_without_dashes = date_str.replace(\"-\", \"\")\n",
    "    return date_str_without_dashes"
   ]
  },
  {
   "attachments": {},
   "cell_type": "markdown",
   "metadata": {},
   "source": [
    "given the coordinates and a file name, catchecker checks to see if the point lies in a polygon. If it does it returns the corresponding drought catagory. Else a 0 is returned "
   ]
  },
  {
   "cell_type": "code",
   "execution_count": null,
   "metadata": {},
   "outputs": [],
   "source": [
    "def catchecker(lon,lat,filename):\n",
    "    path = os.path.join(directory, filename)\n",
    "    with open(path) as f:\n",
    "        js = json.load(f)\n",
    "    point = Point(lon, lat)#SCU coord\n",
    "    for feature in js['features']:\n",
    "        polygon = shape(feature['geometry'])\n",
    "        if polygon.contains(point):\n",
    "            return feature.get(\"id\")\n",
    "        else:\n",
    "            return 0"
   ]
  },
  {
   "attachments": {},
   "cell_type": "markdown",
   "metadata": {},
   "source": [
    "This function returns the first date and last date in the folder for geojson data"
   ]
  },
  {
   "cell_type": "code",
   "execution_count": null,
   "metadata": {},
   "outputs": [],
   "source": [
    "def min_max_date(flag,directory):\n",
    "\n",
    "    list = sorted(os.listdir(directory))\n",
    "    if(flag == \"min\"):\n",
    "        #print(\"min_date\")\n",
    "        #print(list[0])\n",
    "        return list[0]\n",
    "    elif(flag == \"max\"):\n",
    "       # print(\"max_date\")\n",
    "        #print(list[-1])\n",
    "        return list[-1]\n",
    "    else:\n",
    "        print(\"error flag must be min/max\")"
   ]
  },
  {
   "cell_type": "code",
   "execution_count": null,
   "metadata": {},
   "outputs": [],
   "source": [
    "\n",
    "def folder_toset(directory_path):\n",
    "  files = os.listdir(directory_path)\n",
    "  json_files = [f.replace(\".json\", \"\") for f in files]\n",
    "  set(json_files)\n",
    "  return json_files\n"
   ]
  },
  {
   "attachments": {},
   "cell_type": "markdown",
   "metadata": {},
   "source": [
    "This function takes in directory ,the date,mindate & the max date to return the appropriate json file "
   ]
  },
  {
   "cell_type": "code",
   "execution_count": null,
   "metadata": {},
   "outputs": [],
   "source": [
    "\n",
    "#takes in directory ,the date,mindate & the max date to return the appropriate json file \n",
    "def date_match(dir_list,search_string,min_date,max_date):\n",
    "  #print(dir_list)\n",
    "  if search_string in dir_list:\n",
    "        #append\n",
    "    print(\"correct geo json found \")\n",
    "    json_file_name = search_string + \".json\"\n",
    "    print(json_file_name)\n",
    "    return json_file_name\n",
    "  elif(search_string<min_date):\n",
    "    print(\"date less than min date\")\n",
    "    mod_date= int(search_string)\n",
    "    while(mod_date not in dir_list):\n",
    "      int_mod_date = int(mod_date)\n",
    "      int_mod_date+=1\n",
    "      mod_date = str(int_mod_date)\n",
    "    print(mod_date)\n",
    "    converted_date=str(mod_date)\n",
    "    json_file_name = converted_date + \".json\"\n",
    "    print(json_file_name)\n",
    "    return json_file_name\n",
    "  elif(search_string>max_date):\n",
    "    print(\"date greater than max date\")\n",
    "    mod_date= int(search_string)\n",
    "    while(mod_date not in dir_list):\n",
    "      int_mod_date = int(mod_date)\n",
    "      int_mod_date-=1\n",
    "      mod_date = str(int_mod_date)\n",
    "    print(mod_date)\n",
    "    converted_date=str(mod_date)\n",
    "    json_file_name = converted_date + \".json\"\n",
    "    print(json_file_name)\n",
    "    return json_file_name\n",
    "  else:\n",
    "    print(\"date is in between sets\")\n",
    "    #if in between we want to use the data of the week ahead \n",
    "    mod_date= int(search_string)\n",
    "    while(mod_date not in dir_list):\n",
    "      int_mod_date = int(mod_date)\n",
    "      int_mod_date+=1\n",
    "      mod_date = str(int_mod_date)\n",
    "    print(mod_date)\n",
    "    converted_date=str(mod_date)\n",
    "    json_file_name = converted_date + \".json\"\n",
    "    print(json_file_name)\n",
    "    return json_file_name \n",
    "\n"
   ]
  },
  {
   "attachments": {},
   "cell_type": "markdown",
   "metadata": {},
   "source": [
    "this function iterates through each row of the csv file and appends the correct drought catagory "
   ]
  },
  {
   "cell_type": "code",
   "execution_count": null,
   "metadata": {},
   "outputs": [],
   "source": [
    "import pandas as pd\n",
    "\n",
    "Min_date = min_max_date(\"min\",directory)\n",
    "Max_date = min_max_date(\"max\",directory)\n",
    "dir_list = folder_toset(directory_path)\n",
    "df = pd.read_csv(csv_path)\n",
    "\n",
    "# Use the apply method to apply the function to each row in the DataFrame\n",
    "df['drought catagory'] = df.apply(lambda row: catchecker(row['lon'],row['lat'],date_match(dir_list,date_change(row['time']),Min_date,Max_date)), axis=1)\n",
    "  #date is changed from 2022-01-04 to 2022-01-04     \n",
    "# Save the updated DataFrame to a new CSV file\n",
    "df.to_csv(csv_out, index=False)"
   ]
  },
  {
   "cell_type": "markdown",
   "metadata": {},
   "source": []
  }
 ],
 "metadata": {
  "language_info": {
   "name": "python"
  },
  "orig_nbformat": 4
 },
 "nbformat": 4,
 "nbformat_minor": 2
}
